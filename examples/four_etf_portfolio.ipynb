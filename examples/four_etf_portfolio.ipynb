{
 "metadata": {
  "language_info": {
   "codemirror_mode": {
    "name": "ipython",
    "version": 3
   },
   "file_extension": ".py",
   "mimetype": "text/x-python",
   "name": "python",
   "nbconvert_exporter": "python",
   "pygments_lexer": "ipython3",
   "version": "3.7.6-final"
  },
  "orig_nbformat": 2,
  "kernelspec": {
   "name": "python37664bitportformervenvvenvbc2a7ff0feeb4e748530fb450a915c7d",
   "display_name": "Python 3.7.6 64-bit ('portformer_venv': venv)"
  }
 },
 "nbformat": 4,
 "nbformat_minor": 2,
 "cells": [
  {
   "cell_type": "markdown",
   "metadata": {},
   "source": [
    "# Portformer Example - Four ETF Portfolio\n",
    "## Breakpoint Enhanced\n",
    "\n",
    "Compare a static portfolio with weekly rebalancing to one whos positions are updated based on Breakpoint risk signals\n",
    "\n",
    "This example will proceed with the following steps:\n",
    "\n",
    "  1. Generate the static pnl of the strategy over the full history of the ETFs\n",
    "  2. Retrieve Breakpoint forecasts and alerts as of each rebalance date\n",
    "  3. Compare results between the improved Breakpoint enhanced portfolio and the original\n",
    "  4. Show the latest Alerts and Forecasts for the next week"
   ]
  },
  {
   "cell_type": "code",
   "execution_count": 3,
   "metadata": {},
   "outputs": [],
   "source": [
    "target_portfolio = {\n",
    "    'IWM': 0.35,  # RUT Russell 2000 proxy\n",
    "    'SPY': 0.30,  # S&P 500\n",
    "    'EEM': 0.20,  # MXEF\n",
    "    'EFA': 0.15  # MXEA\n",
    "}\n",
    "\n",
    "portfolio_alternates = {\n",
    "    'IWM': ['VTWO'],\n",
    "    'SPY': ['IVV'],\n",
    "    'EEM': ['AAXJ'],\n",
    "    'EFA': ['VEA']\n",
    "}\n",
    "\n",
    "cash = 'TLT'"
   ]
  },
  {
   "cell_type": "markdown",
   "metadata": {},
   "source": [
    "## 1. Static Portfolio Backtest"
   ]
  },
  {
   "cell_type": "code",
   "execution_count": null,
   "metadata": {},
   "outputs": [],
   "source": []
  },
  {
   "cell_type": "markdown",
   "metadata": {},
   "source": [
    "## 2. Retrieve Breakpoint forecasts and alerts as of each rebalance date"
   ]
  },
  {
   "cell_type": "code",
   "execution_count": null,
   "metadata": {},
   "outputs": [],
   "source": []
  },
  {
   "cell_type": "markdown",
   "metadata": {},
   "source": [
    "## 3. Compare results between the improved Breakpoint enhanced portfolio and the original"
   ]
  },
  {
   "cell_type": "code",
   "execution_count": null,
   "metadata": {},
   "outputs": [],
   "source": []
  },
  {
   "cell_type": "markdown",
   "metadata": {},
   "source": [
    "## 4. Show the latest Alerts and Forecasts for the next week"
   ]
  },
  {
   "cell_type": "code",
   "execution_count": null,
   "metadata": {},
   "outputs": [],
   "source": []
  },
  {
   "cell_type": "code",
   "execution_count": null,
   "metadata": {},
   "outputs": [],
   "source": []
  }
 ]
}