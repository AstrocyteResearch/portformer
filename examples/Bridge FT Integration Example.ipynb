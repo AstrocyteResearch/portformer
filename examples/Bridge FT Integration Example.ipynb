{
 "cells": [
  {
   "cell_type": "markdown",
   "metadata": {},
   "source": [
    "# Bridge FT Integration Example\n",
    "\n",
    "Per:\n",
    " - https://linear.app/astrocyte/issue/AR-162/v2-api-object-clean-up\n",
    " - https://linear.app/astrocyte/issue/AR-160/bridge-integration-v2\n",
    " \n",
    "## Main Objectives\n",
    "\n",
    "1. establish baseline expected volatility of portfolio or advisor sets level\n",
    "2. Identify when that level is materially breached.\n",
    "3. Generate backtest that shows how taking action to move back to a target vol (risk averse model) improves performance historically and flag the dates where that action would have been taken.\n",
    "4. Alert advisors on an ongoing basis when those criteria are met.\n",
    "\n",
    "## Steps to achive objective\n",
    "\n",
    "1. Pull in existing portfolio from Bridge System\n",
    "2. Create a universe of existing holdings\n",
    "3. Populate Risk Model (historical + breakpoint)\n",
    "4. Bucket Portfolio and short portfolio level and bucket-level risks\n",
    "5. Enable user to select portfolio level, and (optionally) bucket-level risk alerts and the risk metric they care about.\n",
    "6. Highlight where in the portfolio the level is breached.\n",
    "7. Identify target model portfolio and repeat step 6\n",
    "8. Show risk deviations from standard model and contribution to portfolio-level and bucket-level risks\n",
    "\n",
    "### Backtest\n",
    "\n",
    "1. Show performance of model portfolio using the vol targeting approach (aka target vol / risk averse model) vs static model\n",
    "2. Show dates with the greatest deviation in weights\n",
    "\n",
    "### Alerts \n",
    "4. Alert advisors on an ongoing basis when those criteria are met.\n",
    "\n",
    "\n",
    "## Other cool things to do\n",
    "\n",
    "1. Identify {holding, portfolio, bucket}-level portformer replacements\n",
    "1. Optimize Portfolio for {dividends, fees, volatility, return}\n",
    "1. Auto generate a model portfolio\n",
    "1. compare current static portfolio / model-portfolio with historical NAVs to determine how dynamic a strategy is\n",
    "1. Run alert for tax optimization opportunities\n"
   ]
  },
  {
   "cell_type": "code",
   "execution_count": null,
   "metadata": {},
   "outputs": [],
   "source": []
  }
 ],
 "metadata": {
  "kernelspec": {
   "display_name": "Python 3.7.6 64-bit ('portformer_venv': venv)",
   "language": "python",
   "name": "python37664bitportformervenvvenvbc2a7ff0feeb4e748530fb450a915c7d"
  },
  "language_info": {
   "codemirror_mode": {
    "name": "ipython",
    "version": 3
   },
   "file_extension": ".py",
   "mimetype": "text/x-python",
   "name": "python",
   "nbconvert_exporter": "python",
   "pygments_lexer": "ipython3",
   "version": "3.7.6"
  }
 },
 "nbformat": 4,
 "nbformat_minor": 4
}
